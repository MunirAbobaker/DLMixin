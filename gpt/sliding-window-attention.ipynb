{
 "cells": [
  {
   "cell_type": "code",
   "execution_count": null,
   "metadata": {},
   "outputs": [],
   "source": []
  },
  {
   "cell_type": "code",
   "execution_count": 5,
   "metadata": {},
   "outputs": [],
   "source": [
    "import torch\n",
    "import torch.nn as nn \n",
    "from torch.nn import functional as F\n",
    "import math\n",
    "\n",
    "\n",
    "d_model = 128\n",
    "block_size = 16\n",
    "\n",
    "class SlidingWindowAttention(nn.Module):\n",
    "    def __init__(self, window_size, block_size):\n",
    "        super().__init__()\n",
    "        self.window_size = window_size\n",
    "        self.key = nn.Linear(d_model, d_model)\n",
    "        self.query = nn.Linear(d_model, d_model)\n",
    "        self.value = nn.Linear(d_model, d_model)\n",
    "        self.register_buffer('mask', self.sliding_window_mask(window_size))\n",
    "\n",
    "    def forward(self, x):\n",
    "        k = self.key(x)\n",
    "        q = self.query(x)\n",
    "        v = self.value(x)\n",
    "\n",
    "        wei = (q @ k.transpose(2, 1)) / math.sqrt(k.size(-1)**-.5)\n",
    "        wei = wei.masked_fill(self.mask[:block_size, :block_size] == 0, float('-inf'))\n",
    "        out = torch.softmax(wei, dim=-1) @ v\n",
    "        return out\n",
    "\n",
    "    @staticmethod\n",
    "    def sliding_window_mask(window_size):\n",
    "        mask = torch.zeros((block_size, block_size))\n",
    "        n = len(mask)\n",
    "        for i in range(n):\n",
    "            start = max(0, i - window_size + 1)\n",
    "            end = i \n",
    "            mask[i, start:end+1] = 1 \n",
    "        return mask\n",
    "    \n",
    "x = torch.randn(1, block_size, d_model)\n",
    "attention = SlidingWindowAttention(window_size=4, block_size=block_size)\n",
    "assert attention(x).shape == x.shape, \"shape mismatch\""
   ]
  },
  {
   "cell_type": "code",
   "execution_count": null,
   "metadata": {},
   "outputs": [],
   "source": []
  }
 ],
 "metadata": {
  "kernelspec": {
   "display_name": "torchGPU",
   "language": "python",
   "name": "python3"
  },
  "language_info": {
   "codemirror_mode": {
    "name": "ipython",
    "version": 3
   },
   "file_extension": ".py",
   "mimetype": "text/x-python",
   "name": "python",
   "nbconvert_exporter": "python",
   "pygments_lexer": "ipython3",
   "version": "3.12.4"
  }
 },
 "nbformat": 4,
 "nbformat_minor": 2
}
